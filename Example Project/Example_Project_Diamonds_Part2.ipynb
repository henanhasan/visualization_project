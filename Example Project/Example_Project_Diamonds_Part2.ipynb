{
 "cells": [
  {
   "cell_type": "markdown",
   "metadata": {
    "slideshow": {
     "slide_type": "slide"
    }
   },
   "source": [
    "# Effects of Diamond Characteristics on Their Prices"
   ]
  },
  {
   "cell_type": "markdown",
   "metadata": {
    "slideshow": {
     "slide_type": "slide"
    }
   },
   "source": [
    "## Investigation Overview\n",
    "\n",
    "In this investigation, I wanted to look at the characteristics of diamonds that could be used to predict their prices. The main focus was on the four Cs of diamonds: carat (weight), cut grade, color grade, and clarity grade.\n",
    "\n",
    "## Dataset Overview\n",
    "\n",
    "The data consisted of prices and attributes of approximately 54,000 round-cut diamonds. The attributes included the four Cs of diamonds, as well as additional measurements such as table, depth, and dimensions. Thirty-nine data points were removed from the analysis due to inconsistencies or missing information."
   ]
  },
  {
   "cell_type": "code",
   "execution_count": null,
   "metadata": {
    "slideshow": {
     "slide_type": "skip"
    }
   },
   "outputs": [],
   "source": [
    "# import all packages and set plots to be embedded inline\n",
    "import numpy as np\n",
    "import pandas as pd\n",
    "import matplotlib.pyplot as plt\n",
    "import seaborn as sb\n",
    "\n",
    "%matplotlib inline\n",
    "\n",
    "# suppress warnings from final output\n",
    "import warnings\n",
    "warnings.simplefilter(\"ignore\")"
   ]
  },
  {
   "cell_type": "code",
   "execution_count": null,
   "metadata": {
    "slideshow": {
     "slide_type": "skip"
    }
   },
   "outputs": [],
   "source": [
    "# load in the dataset into a pandas dataframe\n",
    "diamonds = pd.read_csv('diamonds.csv')"
   ]
  },
  {
   "cell_type": "code",
   "execution_count": null,
   "metadata": {
    "slideshow": {
     "slide_type": "skip"
    }
   },
   "outputs": [],
   "source": [
    "# convert cut, color, and clarity into ordered categorical types\n",
    "ordinal_var_dict = {'cut': ['Fair','Good','Very Good','Premium','Ideal'],\n",
    "                    'color': ['J', 'I', 'H', 'G', 'F', 'E', 'D'],\n",
    "                    'clarity': ['I1', 'SI2', 'SI1', 'VS2', 'VS1', 'VVS2', 'VVS1', 'IF']}\n",
    "\n",
    "for var in ordinal_var_dict:\n",
    "    ordered_var = pd.api.types.CategoricalDtype(ordered = True,\n",
    "                                                categories = ordinal_var_dict[var])\n",
    "    diamonds[var] = diamonds[var].astype(ordered_var)"
   ]
  },
  {
   "cell_type": "code",
   "execution_count": null,
   "metadata": {
    "slideshow": {
     "slide_type": "skip"
    }
   },
   "outputs": [],
   "source": [
    "# data wrangling, removing diamonds with inconsistent or missing data.\n",
    "incorrect_depth = (np.abs(2 * diamonds['z'] / (diamonds['x'] + diamonds['y']) - diamonds['depth']/100) > 0.1)\n",
    "no_size_info = ((diamonds['x'] == 0) & (diamonds['y'] == 0))\n",
    "diamonds = diamonds.loc[-incorrect_depth & -no_size_info,:]"
   ]
  },
  {
   "cell_type": "markdown",
   "metadata": {
    "slideshow": {
     "slide_type": "slide"
    }
   },
   "source": [
    "## Distribution of Diamond Prices\n",
    "\n",
    "Diamond prices in the dataset take on a very large range of values, from about \\$300 at the lowest, to about \\$19,000 at the highest. Plotted on a logarithmic scale, the distribution of diamond prices takes on a multimodal shape."
   ]
  },
  {
   "cell_type": "code",
   "execution_count": null,
   "metadata": {
    "slideshow": {
     "slide_type": "subslide"
    }
   },
   "outputs": [],
   "source": [
    "log_binsize = 0.025\n",
    "bins = 10 ** np.arange(2.4, np.log10(diamonds['price'].max())+log_binsize, log_binsize)\n",
    "\n",
    "plt.figure(figsize=[8, 5])\n",
    "plt.hist(data = diamonds, x = 'price', bins = bins)\n",
    "plt.title('Distribution of Diamond Prices')\n",
    "plt.xscale('log')\n",
    "plt.xlim([300, 2e4])\n",
    "plt.xticks([500, 1e3, 2e3, 5e3, 1e4, 2e4], [500, '1k', '2k', '5k', '10k', '20k'])\n",
    "plt.xlabel('Price ($)')\n",
    "plt.show()"
   ]
  },
  {
   "cell_type": "markdown",
   "metadata": {
    "collapsed": true,
    "slideshow": {
     "slide_type": "slide"
    }
   },
   "source": [
    "## Distribution of Carat Weights\n",
    "\n",
    "Carat is a measure of a diamond's weight, where 1 carat is equivalent to 0.2 grams. A large proportion of diamonds take on carat sizes to one decimal place (e.g. 0.3, 0.7, 1.0) or slightly larger, with gradually decreasing frequencies until the next peak is reached."
   ]
  },
  {
   "cell_type": "code",
   "execution_count": null,
   "metadata": {
    "slideshow": {
     "slide_type": "subslide"
    }
   },
   "outputs": [],
   "source": [
    "binsize = 0.02\n",
    "bins = np.arange(0.2, 2.5 + binsize, binsize)\n",
    "\n",
    "plt.figure(figsize=[8, 5])\n",
    "plt.hist(data = diamonds, x = 'carat', bins = bins)\n",
    "plt.title('Distribution of Carat Weights')\n",
    "plt.xlim([0.2,2.5])\n",
    "plt.xlabel('Carat')\n",
    "plt.gca().set_xticks(np.arange(0.2, 2.5, 0.1), minor = True)\n",
    "plt.show()"
   ]
  },
  {
   "cell_type": "markdown",
   "metadata": {
    "slideshow": {
     "slide_type": "slide"
    }
   },
   "source": [
    "## Price vs. Diamond Size\n",
    "\n",
    "Plotting price on a logarithmic scale and taking the cube root of carat (which is approximately proportional to the dimensions of the diamond) produces an approximately linear relationship. For carat weights above 1.5, there appears to be a price ceiling: based on the trend below 1.5 carats, we might expect some larger diamonds to take prices higher than \\$20,000."
   ]
  },
  {
   "cell_type": "code",
   "execution_count": null,
   "metadata": {
    "slideshow": {
     "slide_type": "skip"
    }
   },
   "outputs": [],
   "source": [
    "# compute cube root of carat for modeling and plotting\n",
    "def cuberoot_trans(x, inverse = False):\n",
    "    \"\"\" quick function for computing cube root and cube operations \"\"\"\n",
    "    if not inverse:\n",
    "        return x ** (1/3)\n",
    "    else:\n",
    "        return x ** 3\n",
    "\n",
    "diamonds['cr_carat'] = diamonds['carat'].apply(cuberoot_trans)"
   ]
  },
  {
   "cell_type": "code",
   "execution_count": null,
   "metadata": {
    "slideshow": {
     "slide_type": "skip"
    }
   },
   "outputs": [],
   "source": [
    "# compute the logarithm of price for other modeling and plotting\n",
    "def log_trans(x, inverse = False):\n",
    "    \"\"\" quick function for computing log and power operations \"\"\"\n",
    "    if not inverse:\n",
    "        return np.log10(x)\n",
    "    else:\n",
    "        return np.power(10, x)\n",
    "\n",
    "diamonds['log_price'] = diamonds['price'].apply(log_trans)"
   ]
  },
  {
   "cell_type": "code",
   "execution_count": null,
   "metadata": {
    "slideshow": {
     "slide_type": "subslide"
    }
   },
   "outputs": [],
   "source": [
    "plt.figure(figsize = [8, 6])\n",
    "plt.scatter(data = diamonds, x = 'cr_carat', y = 'price', alpha = 1/10)\n",
    "\n",
    "plt.title('Diamond Prices (log scale) vs. Carat Weight (cube root scale)')\n",
    "\n",
    "carat_ticks = [0.2, 0.3, 0.5, 0.7, 1, 1.5, 2, 3]\n",
    "plt.xticks(cuberoot_trans(np.array(carat_ticks)), carat_ticks)\n",
    "plt.xlim([cuberoot_trans(.18), cuberoot_trans(3.5)])\n",
    "plt.xlabel('Carat')\n",
    "\n",
    "plt.yscale('log')\n",
    "plt.yticks([500, 1e3, 2e3, 5e3, 1e4, 2e4], [500, '1k', '2k', '5k', '10k', '20k'])\n",
    "plt.ylabel('Price ($)')\n",
    "\n",
    "plt.show()"
   ]
  },
  {
   "cell_type": "markdown",
   "metadata": {
    "slideshow": {
     "slide_type": "slide"
    }
   },
   "source": [
    "## Price and Diamond Size by Clarity Grade\n",
    "\n",
    "There is an interaction effect visible between price, diamond size, and the categorical measures of quality: cut, color, and clarity. This is most evident for the clarity measure. As clarity grade increases from the lowest of I1 to the highest at IF), there are much fewer diamonds of size around 1 carat, and many more diamonds of size around 0.3 carats. At the same time, you can see an increase in one peak from around \\$3,000 to \\$10,000, and a second peak from about \\$500 to \\$1,000, whose sizes seem to correspond with the changes in carat weight. This accounts for the base observation that price tends to decrease with increased quality, because the diamonds with higher quality also tend to be smaller in size."
   ]
  },
  {
   "cell_type": "code",
   "execution_count": null,
   "metadata": {
    "slideshow": {
     "slide_type": "skip"
    }
   },
   "outputs": [],
   "source": [
    "# assist function for plotting \n",
    "def catqual_by_pc(var, color):\n",
    "    fig, ax = plt.subplots(ncols = 2, figsize = [10,6])\n",
    "    sb.violinplot(data = diamonds, y = var, x = 'log_price', ax = ax[0],\n",
    "                  color = color)\n",
    "    ax[0].set_xticks(log_trans(np.array([500, 1e3, 2e3, 5e3, 1e4, 2e4])))\n",
    "    ax[0].set_xticklabels([500, '1k', '2k', '5k', '10k', '20k'])\n",
    "    ax[0].set_xlabel(\"Price ($)\")\n",
    "    ax[0].set_ylabel(var.capitalize())\n",
    "    sb.violinplot(data = diamonds, y = var, x = 'cr_carat', ax = ax[1],\n",
    "               color = color)\n",
    "    ax[1].set_xticks(cuberoot_trans(np.array(carat_ticks)))\n",
    "    ax[1].set_xticklabels(carat_ticks)\n",
    "    ax[1].set_xlim(cuberoot_trans(np.array([0.1, 3.5])))\n",
    "    ax[1].set_xlabel(\"Carat\")\n",
    "    #ax[1].set_yticklabels([\"\"])\n",
    "    ax[1].set_ylabel(\"\")\n",
    "    fig.suptitle('Price and Carat Weight by {}'.format(var.capitalize()))\n",
    "    plt.show()"
   ]
  },
  {
   "cell_type": "code",
   "execution_count": null,
   "metadata": {
    "slideshow": {
     "slide_type": "subslide"
    }
   },
   "outputs": [],
   "source": [
    "catqual_by_pc('clarity', sb.color_palette()[0])"
   ]
  },
  {
   "cell_type": "markdown",
   "metadata": {
    "slideshow": {
     "slide_type": "slide"
    }
   },
   "source": [
    "## Price by Color and Clarity for Selected Carat Weights\n",
    "\n",
    "We can see how color and clarity grades affect diamond price by plotting the average price on selected carat weights: those around 0.3 carats and those around 1 carat. For both the 0.3-carat and 1.0-carat diamonds, as the clarity level increases, the general height of the points rises, showing an increase in price. Within each level of clarity, we also observe an increase in price based on the color grade (J is lowest, D is highest)."
   ]
  },
  {
   "cell_type": "code",
   "execution_count": null,
   "metadata": {
    "slideshow": {
     "slide_type": "skip"
    }
   },
   "outputs": [],
   "source": [
    "# select diamonds of about 1 carat and 0.3 carat.\n",
    "diamond_flag = (diamonds['carat'] >= 0.99) & (diamonds['carat'] <= 1.03)\n",
    "diamonds_1c = diamonds.loc[diamond_flag,:]\n",
    "\n",
    "diamond_flag = (diamonds['carat'] >= 0.29) & (diamonds['carat'] <= 0.33)\n",
    "diamonds_sml = diamonds.loc[diamond_flag,:]"
   ]
  },
  {
   "cell_type": "code",
   "execution_count": null,
   "metadata": {
    "slideshow": {
     "slide_type": "subslide"
    }
   },
   "outputs": [],
   "source": [
    "fig, ax = plt.subplots(ncols = 2, figsize = [12,6])\n",
    "\n",
    "sb.pointplot(data = diamonds_sml, x = 'clarity', y = 'price', hue = 'color',\n",
    "             palette = 'Blues', linestyles = '', dodge = 0.5, ax = ax[0])\n",
    "ax[0].set_title('0.3-carat diamond prices across color and clarity')\n",
    "ax[0].set_ylabel('Mean Price ($)')\n",
    "ax[0].set_yscale('log')\n",
    "ax[0].set_yticks([400, 600, 1000])\n",
    "ax[0].set_yticklabels(['400', '600', '1000'])\n",
    "ax[0].set_yticklabels([],minor = True)\n",
    "\n",
    "sb.pointplot(data = diamonds_1c, x = 'clarity', y = 'price', hue = 'color',\n",
    "             palette = 'Blues', linestyles = '', dodge = 0.5, ax = ax[1])\n",
    "ax[1].set_title('1-carat diamond prices across color and clarity')\n",
    "ax[1].set_ylabel('Mean Price ($)')\n",
    "ax[1].set_yscale('log')\n",
    "ax[1].set_yticks([2e3, 4e3, 6e3, 1e4])\n",
    "ax[1].set_yticklabels(['2k', '4k', '6k', '10k'])\n",
    "ax[1].set_yticklabels([],minor = True)\n",
    "\n",
    "plt.show();"
   ]
  },
  {
   "cell_type": "markdown",
   "metadata": {
    "slideshow": {
     "slide_type": "slide"
    }
   },
   "source": [
    "## Price by Cut and Clarity for Selected Carat Weights\n",
    "\n",
    "Reproducing the same plots with cut instead of color grade shows that pricing increases with cut quality grade as well. Compared to color, however, it appears that the overall effect of cut is smaller (from worst to best) compared to color."
   ]
  },
  {
   "cell_type": "code",
   "execution_count": null,
   "metadata": {
    "scrolled": true,
    "slideshow": {
     "slide_type": "subslide"
    }
   },
   "outputs": [],
   "source": [
    "fig, ax = plt.subplots(ncols = 2, figsize = [12,6])\n",
    "\n",
    "sb.pointplot(data = diamonds_sml, x = 'clarity', y = 'price', hue = 'cut',\n",
    "             palette = 'Greens', linestyles = '', dodge = 0.5, ax = ax[0])\n",
    "ax[0].set_title('0.3-carat diamond prices across cut and clarity')\n",
    "ax[0].set_ylabel('Mean Price ($)')\n",
    "ax[0].set_yscale('log')\n",
    "ax[0].set_yticks([400, 600, 1000])\n",
    "ax[0].set_yticklabels(['400', '600', '1000'])\n",
    "ax[0].set_yticklabels([],minor = True)\n",
    "\n",
    "sb.pointplot(data = diamonds_1c, x = 'clarity', y = 'price', hue = 'cut',\n",
    "             palette = 'Greens', linestyles = '', dodge = 0.5, ax = ax[1])\n",
    "ax[1].set_title('1-carat diamond prices across cut and clarity')\n",
    "ax[1].set_ylabel('Mean Price ($)')\n",
    "ax[1].set_yscale('log')\n",
    "ax[1].set_yticks([2e3, 4e3, 6e3, 1e4])\n",
    "ax[1].set_yticklabels(['2k', '4k', '6k', '10k'])\n",
    "ax[1].set_yticklabels([],minor = True)\n",
    "\n",
    "plt.show();"
   ]
  },
  {
   "cell_type": "code",
   "execution_count": null,
   "metadata": {},
   "outputs": [],
   "source": [
    "!jupyter nbconvert Example_Project_Diamonds_Part2.ipynb --to slides --post serve --no-input --no-prompt"
   ]
  },
  {
   "cell_type": "code",
   "execution_count": null,
   "metadata": {},
   "outputs": [],
   "source": []
  },
  {
   "cell_type": "code",
   "execution_count": null,
   "metadata": {},
   "outputs": [],
   "source": []
  },
  {
   "cell_type": "code",
   "execution_count": null,
   "metadata": {},
   "outputs": [],
   "source": []
  },
  {
   "cell_type": "code",
   "execution_count": null,
   "metadata": {},
   "outputs": [],
   "source": []
  },
  {
   "cell_type": "code",
   "execution_count": null,
   "metadata": {},
   "outputs": [],
   "source": []
  },
  {
   "cell_type": "code",
   "execution_count": null,
   "metadata": {},
   "outputs": [],
   "source": []
  },
  {
   "cell_type": "code",
   "execution_count": null,
   "metadata": {},
   "outputs": [],
   "source": []
  },
  {
   "cell_type": "code",
   "execution_count": null,
   "metadata": {},
   "outputs": [],
   "source": []
  },
  {
   "cell_type": "code",
   "execution_count": null,
   "metadata": {},
   "outputs": [],
   "source": []
  }
 ],
 "metadata": {
  "celltoolbar": "Slideshow",
  "kernelspec": {
   "display_name": "Python 3 (ipykernel)",
   "language": "python",
   "name": "python3"
  },
  "language_info": {
   "codemirror_mode": {
    "name": "ipython",
    "version": 3
   },
   "file_extension": ".py",
   "mimetype": "text/x-python",
   "name": "python",
   "nbconvert_exporter": "python",
   "pygments_lexer": "ipython3",
   "version": "3.9.16"
  }
 },
 "nbformat": 4,
 "nbformat_minor": 2
}
